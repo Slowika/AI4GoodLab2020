{
  "nbformat": 4,
  "nbformat_minor": 0,
  "metadata": {
    "accelerator": "GPU",
    "colab": {
      "name": "IAlab_MNIST_MLP.ipynb",
      "provenance": [],
      "collapsed_sections": []
    },
    "kernelspec": {
      "display_name": "Python 3",
      "language": "python",
      "name": "python3"
    },
    "language_info": {
      "codemirror_mode": {
        "name": "ipython",
        "version": 3
      },
      "file_extension": ".py",
      "mimetype": "text/x-python",
      "name": "python",
      "nbconvert_exporter": "python",
      "pygments_lexer": "ipython3",
      "version": "3.7.6"
    },
    "widgets": {
      "application/vnd.jupyter.widget-state+json": {
        "5578a1026e8c4b3e8737873618cf156d": {
          "model_module": "@jupyter-widgets/controls",
          "model_name": "HBoxModel",
          "state": {
            "_view_name": "HBoxView",
            "_dom_classes": [],
            "_model_name": "HBoxModel",
            "_view_module": "@jupyter-widgets/controls",
            "_model_module_version": "1.5.0",
            "_view_count": null,
            "_view_module_version": "1.5.0",
            "box_style": "",
            "layout": "IPY_MODEL_5256225b915943cd8ed498367ce0752a",
            "_model_module": "@jupyter-widgets/controls",
            "children": [
              "IPY_MODEL_862731abb8c644baa3176f41c4cdbdc4",
              "IPY_MODEL_6359d3e2a2cf4209ab97985a254395fe"
            ]
          }
        },
        "5256225b915943cd8ed498367ce0752a": {
          "model_module": "@jupyter-widgets/base",
          "model_name": "LayoutModel",
          "state": {
            "_view_name": "LayoutView",
            "grid_template_rows": null,
            "right": null,
            "justify_content": null,
            "_view_module": "@jupyter-widgets/base",
            "overflow": null,
            "_model_module_version": "1.2.0",
            "_view_count": null,
            "flex_flow": null,
            "width": null,
            "min_width": null,
            "border": null,
            "align_items": null,
            "bottom": null,
            "_model_module": "@jupyter-widgets/base",
            "top": null,
            "grid_column": null,
            "overflow_y": null,
            "overflow_x": null,
            "grid_auto_flow": null,
            "grid_area": null,
            "grid_template_columns": null,
            "flex": null,
            "_model_name": "LayoutModel",
            "justify_items": null,
            "grid_row": null,
            "max_height": null,
            "align_content": null,
            "visibility": null,
            "align_self": null,
            "height": null,
            "min_height": null,
            "padding": null,
            "grid_auto_rows": null,
            "grid_gap": null,
            "max_width": null,
            "order": null,
            "_view_module_version": "1.2.0",
            "grid_template_areas": null,
            "object_position": null,
            "object_fit": null,
            "grid_auto_columns": null,
            "margin": null,
            "display": null,
            "left": null
          }
        },
        "862731abb8c644baa3176f41c4cdbdc4": {
          "model_module": "@jupyter-widgets/controls",
          "model_name": "FloatProgressModel",
          "state": {
            "_view_name": "ProgressView",
            "style": "IPY_MODEL_0fb101bb02eb4aae8341ab77acb88250",
            "_dom_classes": [],
            "description": "",
            "_model_name": "FloatProgressModel",
            "bar_style": "info",
            "max": 1,
            "_view_module": "@jupyter-widgets/controls",
            "_model_module_version": "1.5.0",
            "value": 1,
            "_view_count": null,
            "_view_module_version": "1.5.0",
            "orientation": "horizontal",
            "min": 0,
            "description_tooltip": null,
            "_model_module": "@jupyter-widgets/controls",
            "layout": "IPY_MODEL_f56fb8a0bc1e4680a3e654802e550b64"
          }
        },
        "6359d3e2a2cf4209ab97985a254395fe": {
          "model_module": "@jupyter-widgets/controls",
          "model_name": "HTMLModel",
          "state": {
            "_view_name": "HTMLView",
            "style": "IPY_MODEL_556b257493bb46f8b946ec9c28031b9e",
            "_dom_classes": [],
            "description": "",
            "_model_name": "HTMLModel",
            "placeholder": "​",
            "_view_module": "@jupyter-widgets/controls",
            "_model_module_version": "1.5.0",
            "value": " 9920512/? [00:20&lt;00:00, 3115103.11it/s]",
            "_view_count": null,
            "_view_module_version": "1.5.0",
            "description_tooltip": null,
            "_model_module": "@jupyter-widgets/controls",
            "layout": "IPY_MODEL_45e49f547cb3471e8f2f55f540e57c95"
          }
        },
        "0fb101bb02eb4aae8341ab77acb88250": {
          "model_module": "@jupyter-widgets/controls",
          "model_name": "ProgressStyleModel",
          "state": {
            "_view_name": "StyleView",
            "_model_name": "ProgressStyleModel",
            "description_width": "initial",
            "_view_module": "@jupyter-widgets/base",
            "_model_module_version": "1.5.0",
            "_view_count": null,
            "_view_module_version": "1.2.0",
            "bar_color": null,
            "_model_module": "@jupyter-widgets/controls"
          }
        },
        "f56fb8a0bc1e4680a3e654802e550b64": {
          "model_module": "@jupyter-widgets/base",
          "model_name": "LayoutModel",
          "state": {
            "_view_name": "LayoutView",
            "grid_template_rows": null,
            "right": null,
            "justify_content": null,
            "_view_module": "@jupyter-widgets/base",
            "overflow": null,
            "_model_module_version": "1.2.0",
            "_view_count": null,
            "flex_flow": null,
            "width": null,
            "min_width": null,
            "border": null,
            "align_items": null,
            "bottom": null,
            "_model_module": "@jupyter-widgets/base",
            "top": null,
            "grid_column": null,
            "overflow_y": null,
            "overflow_x": null,
            "grid_auto_flow": null,
            "grid_area": null,
            "grid_template_columns": null,
            "flex": null,
            "_model_name": "LayoutModel",
            "justify_items": null,
            "grid_row": null,
            "max_height": null,
            "align_content": null,
            "visibility": null,
            "align_self": null,
            "height": null,
            "min_height": null,
            "padding": null,
            "grid_auto_rows": null,
            "grid_gap": null,
            "max_width": null,
            "order": null,
            "_view_module_version": "1.2.0",
            "grid_template_areas": null,
            "object_position": null,
            "object_fit": null,
            "grid_auto_columns": null,
            "margin": null,
            "display": null,
            "left": null
          }
        },
        "556b257493bb46f8b946ec9c28031b9e": {
          "model_module": "@jupyter-widgets/controls",
          "model_name": "DescriptionStyleModel",
          "state": {
            "_view_name": "StyleView",
            "_model_name": "DescriptionStyleModel",
            "description_width": "",
            "_view_module": "@jupyter-widgets/base",
            "_model_module_version": "1.5.0",
            "_view_count": null,
            "_view_module_version": "1.2.0",
            "_model_module": "@jupyter-widgets/controls"
          }
        },
        "45e49f547cb3471e8f2f55f540e57c95": {
          "model_module": "@jupyter-widgets/base",
          "model_name": "LayoutModel",
          "state": {
            "_view_name": "LayoutView",
            "grid_template_rows": null,
            "right": null,
            "justify_content": null,
            "_view_module": "@jupyter-widgets/base",
            "overflow": null,
            "_model_module_version": "1.2.0",
            "_view_count": null,
            "flex_flow": null,
            "width": null,
            "min_width": null,
            "border": null,
            "align_items": null,
            "bottom": null,
            "_model_module": "@jupyter-widgets/base",
            "top": null,
            "grid_column": null,
            "overflow_y": null,
            "overflow_x": null,
            "grid_auto_flow": null,
            "grid_area": null,
            "grid_template_columns": null,
            "flex": null,
            "_model_name": "LayoutModel",
            "justify_items": null,
            "grid_row": null,
            "max_height": null,
            "align_content": null,
            "visibility": null,
            "align_self": null,
            "height": null,
            "min_height": null,
            "padding": null,
            "grid_auto_rows": null,
            "grid_gap": null,
            "max_width": null,
            "order": null,
            "_view_module_version": "1.2.0",
            "grid_template_areas": null,
            "object_position": null,
            "object_fit": null,
            "grid_auto_columns": null,
            "margin": null,
            "display": null,
            "left": null
          }
        },
        "db32c1f464f14be59e9e4f91243787d1": {
          "model_module": "@jupyter-widgets/controls",
          "model_name": "HBoxModel",
          "state": {
            "_view_name": "HBoxView",
            "_dom_classes": [],
            "_model_name": "HBoxModel",
            "_view_module": "@jupyter-widgets/controls",
            "_model_module_version": "1.5.0",
            "_view_count": null,
            "_view_module_version": "1.5.0",
            "box_style": "",
            "layout": "IPY_MODEL_e920e080e13f4087b6770d8007178c21",
            "_model_module": "@jupyter-widgets/controls",
            "children": [
              "IPY_MODEL_2c4e1bb9cb9b4f308cf2e740a976f982",
              "IPY_MODEL_eb967dbbf0aa4d43b989abd7c189e650"
            ]
          }
        },
        "e920e080e13f4087b6770d8007178c21": {
          "model_module": "@jupyter-widgets/base",
          "model_name": "LayoutModel",
          "state": {
            "_view_name": "LayoutView",
            "grid_template_rows": null,
            "right": null,
            "justify_content": null,
            "_view_module": "@jupyter-widgets/base",
            "overflow": null,
            "_model_module_version": "1.2.0",
            "_view_count": null,
            "flex_flow": null,
            "width": null,
            "min_width": null,
            "border": null,
            "align_items": null,
            "bottom": null,
            "_model_module": "@jupyter-widgets/base",
            "top": null,
            "grid_column": null,
            "overflow_y": null,
            "overflow_x": null,
            "grid_auto_flow": null,
            "grid_area": null,
            "grid_template_columns": null,
            "flex": null,
            "_model_name": "LayoutModel",
            "justify_items": null,
            "grid_row": null,
            "max_height": null,
            "align_content": null,
            "visibility": null,
            "align_self": null,
            "height": null,
            "min_height": null,
            "padding": null,
            "grid_auto_rows": null,
            "grid_gap": null,
            "max_width": null,
            "order": null,
            "_view_module_version": "1.2.0",
            "grid_template_areas": null,
            "object_position": null,
            "object_fit": null,
            "grid_auto_columns": null,
            "margin": null,
            "display": null,
            "left": null
          }
        },
        "2c4e1bb9cb9b4f308cf2e740a976f982": {
          "model_module": "@jupyter-widgets/controls",
          "model_name": "FloatProgressModel",
          "state": {
            "_view_name": "ProgressView",
            "style": "IPY_MODEL_6f49fe0e994b4b0a81d9e36e07444519",
            "_dom_classes": [],
            "description": "  0%",
            "_model_name": "FloatProgressModel",
            "bar_style": "info",
            "max": 1,
            "_view_module": "@jupyter-widgets/controls",
            "_model_module_version": "1.5.0",
            "value": 0,
            "_view_count": null,
            "_view_module_version": "1.5.0",
            "orientation": "horizontal",
            "min": 0,
            "description_tooltip": null,
            "_model_module": "@jupyter-widgets/controls",
            "layout": "IPY_MODEL_453d991848514c0ba3e53a68a32b607a"
          }
        },
        "eb967dbbf0aa4d43b989abd7c189e650": {
          "model_module": "@jupyter-widgets/controls",
          "model_name": "HTMLModel",
          "state": {
            "_view_name": "HTMLView",
            "style": "IPY_MODEL_001444f6a6e94477b9cb4457a00c1cef",
            "_dom_classes": [],
            "description": "",
            "_model_name": "HTMLModel",
            "placeholder": "​",
            "_view_module": "@jupyter-widgets/controls",
            "_model_module_version": "1.5.0",
            "value": " 0/28881 [00:00&lt;?, ?it/s]",
            "_view_count": null,
            "_view_module_version": "1.5.0",
            "description_tooltip": null,
            "_model_module": "@jupyter-widgets/controls",
            "layout": "IPY_MODEL_1ea3d1f0b17144b497894f7d7ae9b0d5"
          }
        },
        "6f49fe0e994b4b0a81d9e36e07444519": {
          "model_module": "@jupyter-widgets/controls",
          "model_name": "ProgressStyleModel",
          "state": {
            "_view_name": "StyleView",
            "_model_name": "ProgressStyleModel",
            "description_width": "initial",
            "_view_module": "@jupyter-widgets/base",
            "_model_module_version": "1.5.0",
            "_view_count": null,
            "_view_module_version": "1.2.0",
            "bar_color": null,
            "_model_module": "@jupyter-widgets/controls"
          }
        },
        "453d991848514c0ba3e53a68a32b607a": {
          "model_module": "@jupyter-widgets/base",
          "model_name": "LayoutModel",
          "state": {
            "_view_name": "LayoutView",
            "grid_template_rows": null,
            "right": null,
            "justify_content": null,
            "_view_module": "@jupyter-widgets/base",
            "overflow": null,
            "_model_module_version": "1.2.0",
            "_view_count": null,
            "flex_flow": null,
            "width": null,
            "min_width": null,
            "border": null,
            "align_items": null,
            "bottom": null,
            "_model_module": "@jupyter-widgets/base",
            "top": null,
            "grid_column": null,
            "overflow_y": null,
            "overflow_x": null,
            "grid_auto_flow": null,
            "grid_area": null,
            "grid_template_columns": null,
            "flex": null,
            "_model_name": "LayoutModel",
            "justify_items": null,
            "grid_row": null,
            "max_height": null,
            "align_content": null,
            "visibility": null,
            "align_self": null,
            "height": null,
            "min_height": null,
            "padding": null,
            "grid_auto_rows": null,
            "grid_gap": null,
            "max_width": null,
            "order": null,
            "_view_module_version": "1.2.0",
            "grid_template_areas": null,
            "object_position": null,
            "object_fit": null,
            "grid_auto_columns": null,
            "margin": null,
            "display": null,
            "left": null
          }
        },
        "001444f6a6e94477b9cb4457a00c1cef": {
          "model_module": "@jupyter-widgets/controls",
          "model_name": "DescriptionStyleModel",
          "state": {
            "_view_name": "StyleView",
            "_model_name": "DescriptionStyleModel",
            "description_width": "",
            "_view_module": "@jupyter-widgets/base",
            "_model_module_version": "1.5.0",
            "_view_count": null,
            "_view_module_version": "1.2.0",
            "_model_module": "@jupyter-widgets/controls"
          }
        },
        "1ea3d1f0b17144b497894f7d7ae9b0d5": {
          "model_module": "@jupyter-widgets/base",
          "model_name": "LayoutModel",
          "state": {
            "_view_name": "LayoutView",
            "grid_template_rows": null,
            "right": null,
            "justify_content": null,
            "_view_module": "@jupyter-widgets/base",
            "overflow": null,
            "_model_module_version": "1.2.0",
            "_view_count": null,
            "flex_flow": null,
            "width": null,
            "min_width": null,
            "border": null,
            "align_items": null,
            "bottom": null,
            "_model_module": "@jupyter-widgets/base",
            "top": null,
            "grid_column": null,
            "overflow_y": null,
            "overflow_x": null,
            "grid_auto_flow": null,
            "grid_area": null,
            "grid_template_columns": null,
            "flex": null,
            "_model_name": "LayoutModel",
            "justify_items": null,
            "grid_row": null,
            "max_height": null,
            "align_content": null,
            "visibility": null,
            "align_self": null,
            "height": null,
            "min_height": null,
            "padding": null,
            "grid_auto_rows": null,
            "grid_gap": null,
            "max_width": null,
            "order": null,
            "_view_module_version": "1.2.0",
            "grid_template_areas": null,
            "object_position": null,
            "object_fit": null,
            "grid_auto_columns": null,
            "margin": null,
            "display": null,
            "left": null
          }
        },
        "1d6d5c67e64c4092a754330f330d58a6": {
          "model_module": "@jupyter-widgets/controls",
          "model_name": "HBoxModel",
          "state": {
            "_view_name": "HBoxView",
            "_dom_classes": [],
            "_model_name": "HBoxModel",
            "_view_module": "@jupyter-widgets/controls",
            "_model_module_version": "1.5.0",
            "_view_count": null,
            "_view_module_version": "1.5.0",
            "box_style": "",
            "layout": "IPY_MODEL_bddddd143c6044d19b33fa3b78869483",
            "_model_module": "@jupyter-widgets/controls",
            "children": [
              "IPY_MODEL_9cfb1dedd6c545e89ae3e68fbc93bf1a",
              "IPY_MODEL_d94c1568d0314f64a557e61c2453a13f"
            ]
          }
        },
        "bddddd143c6044d19b33fa3b78869483": {
          "model_module": "@jupyter-widgets/base",
          "model_name": "LayoutModel",
          "state": {
            "_view_name": "LayoutView",
            "grid_template_rows": null,
            "right": null,
            "justify_content": null,
            "_view_module": "@jupyter-widgets/base",
            "overflow": null,
            "_model_module_version": "1.2.0",
            "_view_count": null,
            "flex_flow": null,
            "width": null,
            "min_width": null,
            "border": null,
            "align_items": null,
            "bottom": null,
            "_model_module": "@jupyter-widgets/base",
            "top": null,
            "grid_column": null,
            "overflow_y": null,
            "overflow_x": null,
            "grid_auto_flow": null,
            "grid_area": null,
            "grid_template_columns": null,
            "flex": null,
            "_model_name": "LayoutModel",
            "justify_items": null,
            "grid_row": null,
            "max_height": null,
            "align_content": null,
            "visibility": null,
            "align_self": null,
            "height": null,
            "min_height": null,
            "padding": null,
            "grid_auto_rows": null,
            "grid_gap": null,
            "max_width": null,
            "order": null,
            "_view_module_version": "1.2.0",
            "grid_template_areas": null,
            "object_position": null,
            "object_fit": null,
            "grid_auto_columns": null,
            "margin": null,
            "display": null,
            "left": null
          }
        },
        "9cfb1dedd6c545e89ae3e68fbc93bf1a": {
          "model_module": "@jupyter-widgets/controls",
          "model_name": "FloatProgressModel",
          "state": {
            "_view_name": "ProgressView",
            "style": "IPY_MODEL_6c264e2806404f8f9320342a360fbd19",
            "_dom_classes": [],
            "description": "",
            "_model_name": "FloatProgressModel",
            "bar_style": "info",
            "max": 1,
            "_view_module": "@jupyter-widgets/controls",
            "_model_module_version": "1.5.0",
            "value": 1,
            "_view_count": null,
            "_view_module_version": "1.5.0",
            "orientation": "horizontal",
            "min": 0,
            "description_tooltip": null,
            "_model_module": "@jupyter-widgets/controls",
            "layout": "IPY_MODEL_3fc0620ca53d43aabb2823b221f9cfd1"
          }
        },
        "d94c1568d0314f64a557e61c2453a13f": {
          "model_module": "@jupyter-widgets/controls",
          "model_name": "HTMLModel",
          "state": {
            "_view_name": "HTMLView",
            "style": "IPY_MODEL_65a03ae2b21c4f08bca04a7962ebc086",
            "_dom_classes": [],
            "description": "",
            "_model_name": "HTMLModel",
            "placeholder": "​",
            "_view_module": "@jupyter-widgets/controls",
            "_model_module_version": "1.5.0",
            "value": " 1654784/? [00:18&lt;00:00, 913007.35it/s]",
            "_view_count": null,
            "_view_module_version": "1.5.0",
            "description_tooltip": null,
            "_model_module": "@jupyter-widgets/controls",
            "layout": "IPY_MODEL_616d1c807f6d48238045f0c2b1504030"
          }
        },
        "6c264e2806404f8f9320342a360fbd19": {
          "model_module": "@jupyter-widgets/controls",
          "model_name": "ProgressStyleModel",
          "state": {
            "_view_name": "StyleView",
            "_model_name": "ProgressStyleModel",
            "description_width": "initial",
            "_view_module": "@jupyter-widgets/base",
            "_model_module_version": "1.5.0",
            "_view_count": null,
            "_view_module_version": "1.2.0",
            "bar_color": null,
            "_model_module": "@jupyter-widgets/controls"
          }
        },
        "3fc0620ca53d43aabb2823b221f9cfd1": {
          "model_module": "@jupyter-widgets/base",
          "model_name": "LayoutModel",
          "state": {
            "_view_name": "LayoutView",
            "grid_template_rows": null,
            "right": null,
            "justify_content": null,
            "_view_module": "@jupyter-widgets/base",
            "overflow": null,
            "_model_module_version": "1.2.0",
            "_view_count": null,
            "flex_flow": null,
            "width": null,
            "min_width": null,
            "border": null,
            "align_items": null,
            "bottom": null,
            "_model_module": "@jupyter-widgets/base",
            "top": null,
            "grid_column": null,
            "overflow_y": null,
            "overflow_x": null,
            "grid_auto_flow": null,
            "grid_area": null,
            "grid_template_columns": null,
            "flex": null,
            "_model_name": "LayoutModel",
            "justify_items": null,
            "grid_row": null,
            "max_height": null,
            "align_content": null,
            "visibility": null,
            "align_self": null,
            "height": null,
            "min_height": null,
            "padding": null,
            "grid_auto_rows": null,
            "grid_gap": null,
            "max_width": null,
            "order": null,
            "_view_module_version": "1.2.0",
            "grid_template_areas": null,
            "object_position": null,
            "object_fit": null,
            "grid_auto_columns": null,
            "margin": null,
            "display": null,
            "left": null
          }
        },
        "65a03ae2b21c4f08bca04a7962ebc086": {
          "model_module": "@jupyter-widgets/controls",
          "model_name": "DescriptionStyleModel",
          "state": {
            "_view_name": "StyleView",
            "_model_name": "DescriptionStyleModel",
            "description_width": "",
            "_view_module": "@jupyter-widgets/base",
            "_model_module_version": "1.5.0",
            "_view_count": null,
            "_view_module_version": "1.2.0",
            "_model_module": "@jupyter-widgets/controls"
          }
        },
        "616d1c807f6d48238045f0c2b1504030": {
          "model_module": "@jupyter-widgets/base",
          "model_name": "LayoutModel",
          "state": {
            "_view_name": "LayoutView",
            "grid_template_rows": null,
            "right": null,
            "justify_content": null,
            "_view_module": "@jupyter-widgets/base",
            "overflow": null,
            "_model_module_version": "1.2.0",
            "_view_count": null,
            "flex_flow": null,
            "width": null,
            "min_width": null,
            "border": null,
            "align_items": null,
            "bottom": null,
            "_model_module": "@jupyter-widgets/base",
            "top": null,
            "grid_column": null,
            "overflow_y": null,
            "overflow_x": null,
            "grid_auto_flow": null,
            "grid_area": null,
            "grid_template_columns": null,
            "flex": null,
            "_model_name": "LayoutModel",
            "justify_items": null,
            "grid_row": null,
            "max_height": null,
            "align_content": null,
            "visibility": null,
            "align_self": null,
            "height": null,
            "min_height": null,
            "padding": null,
            "grid_auto_rows": null,
            "grid_gap": null,
            "max_width": null,
            "order": null,
            "_view_module_version": "1.2.0",
            "grid_template_areas": null,
            "object_position": null,
            "object_fit": null,
            "grid_auto_columns": null,
            "margin": null,
            "display": null,
            "left": null
          }
        },
        "1170c727d9e641a781db20df03968770": {
          "model_module": "@jupyter-widgets/controls",
          "model_name": "HBoxModel",
          "state": {
            "_view_name": "HBoxView",
            "_dom_classes": [],
            "_model_name": "HBoxModel",
            "_view_module": "@jupyter-widgets/controls",
            "_model_module_version": "1.5.0",
            "_view_count": null,
            "_view_module_version": "1.5.0",
            "box_style": "",
            "layout": "IPY_MODEL_daf7022dc4964059b076e2d49a206b24",
            "_model_module": "@jupyter-widgets/controls",
            "children": [
              "IPY_MODEL_e4c2810b5308400a8d2e7a6327ce08ef",
              "IPY_MODEL_61e497d11147465fbba12f024ff59c21"
            ]
          }
        },
        "daf7022dc4964059b076e2d49a206b24": {
          "model_module": "@jupyter-widgets/base",
          "model_name": "LayoutModel",
          "state": {
            "_view_name": "LayoutView",
            "grid_template_rows": null,
            "right": null,
            "justify_content": null,
            "_view_module": "@jupyter-widgets/base",
            "overflow": null,
            "_model_module_version": "1.2.0",
            "_view_count": null,
            "flex_flow": null,
            "width": null,
            "min_width": null,
            "border": null,
            "align_items": null,
            "bottom": null,
            "_model_module": "@jupyter-widgets/base",
            "top": null,
            "grid_column": null,
            "overflow_y": null,
            "overflow_x": null,
            "grid_auto_flow": null,
            "grid_area": null,
            "grid_template_columns": null,
            "flex": null,
            "_model_name": "LayoutModel",
            "justify_items": null,
            "grid_row": null,
            "max_height": null,
            "align_content": null,
            "visibility": null,
            "align_self": null,
            "height": null,
            "min_height": null,
            "padding": null,
            "grid_auto_rows": null,
            "grid_gap": null,
            "max_width": null,
            "order": null,
            "_view_module_version": "1.2.0",
            "grid_template_areas": null,
            "object_position": null,
            "object_fit": null,
            "grid_auto_columns": null,
            "margin": null,
            "display": null,
            "left": null
          }
        },
        "e4c2810b5308400a8d2e7a6327ce08ef": {
          "model_module": "@jupyter-widgets/controls",
          "model_name": "FloatProgressModel",
          "state": {
            "_view_name": "ProgressView",
            "style": "IPY_MODEL_21e6e02b7ff7425ea55605369b27865d",
            "_dom_classes": [],
            "description": "  0%",
            "_model_name": "FloatProgressModel",
            "bar_style": "info",
            "max": 1,
            "_view_module": "@jupyter-widgets/controls",
            "_model_module_version": "1.5.0",
            "value": 0,
            "_view_count": null,
            "_view_module_version": "1.5.0",
            "orientation": "horizontal",
            "min": 0,
            "description_tooltip": null,
            "_model_module": "@jupyter-widgets/controls",
            "layout": "IPY_MODEL_ee0f28f78d484b239c4f0d96173408ce"
          }
        },
        "61e497d11147465fbba12f024ff59c21": {
          "model_module": "@jupyter-widgets/controls",
          "model_name": "HTMLModel",
          "state": {
            "_view_name": "HTMLView",
            "style": "IPY_MODEL_174ac66aef0449fcb04dca8fd6b817fa",
            "_dom_classes": [],
            "description": "",
            "_model_name": "HTMLModel",
            "placeholder": "​",
            "_view_module": "@jupyter-widgets/controls",
            "_model_module_version": "1.5.0",
            "value": " 0/4542 [00:00&lt;?, ?it/s]",
            "_view_count": null,
            "_view_module_version": "1.5.0",
            "description_tooltip": null,
            "_model_module": "@jupyter-widgets/controls",
            "layout": "IPY_MODEL_6839afb1be4d4455a198c2bdeb270e74"
          }
        },
        "21e6e02b7ff7425ea55605369b27865d": {
          "model_module": "@jupyter-widgets/controls",
          "model_name": "ProgressStyleModel",
          "state": {
            "_view_name": "StyleView",
            "_model_name": "ProgressStyleModel",
            "description_width": "initial",
            "_view_module": "@jupyter-widgets/base",
            "_model_module_version": "1.5.0",
            "_view_count": null,
            "_view_module_version": "1.2.0",
            "bar_color": null,
            "_model_module": "@jupyter-widgets/controls"
          }
        },
        "ee0f28f78d484b239c4f0d96173408ce": {
          "model_module": "@jupyter-widgets/base",
          "model_name": "LayoutModel",
          "state": {
            "_view_name": "LayoutView",
            "grid_template_rows": null,
            "right": null,
            "justify_content": null,
            "_view_module": "@jupyter-widgets/base",
            "overflow": null,
            "_model_module_version": "1.2.0",
            "_view_count": null,
            "flex_flow": null,
            "width": null,
            "min_width": null,
            "border": null,
            "align_items": null,
            "bottom": null,
            "_model_module": "@jupyter-widgets/base",
            "top": null,
            "grid_column": null,
            "overflow_y": null,
            "overflow_x": null,
            "grid_auto_flow": null,
            "grid_area": null,
            "grid_template_columns": null,
            "flex": null,
            "_model_name": "LayoutModel",
            "justify_items": null,
            "grid_row": null,
            "max_height": null,
            "align_content": null,
            "visibility": null,
            "align_self": null,
            "height": null,
            "min_height": null,
            "padding": null,
            "grid_auto_rows": null,
            "grid_gap": null,
            "max_width": null,
            "order": null,
            "_view_module_version": "1.2.0",
            "grid_template_areas": null,
            "object_position": null,
            "object_fit": null,
            "grid_auto_columns": null,
            "margin": null,
            "display": null,
            "left": null
          }
        },
        "174ac66aef0449fcb04dca8fd6b817fa": {
          "model_module": "@jupyter-widgets/controls",
          "model_name": "DescriptionStyleModel",
          "state": {
            "_view_name": "StyleView",
            "_model_name": "DescriptionStyleModel",
            "description_width": "",
            "_view_module": "@jupyter-widgets/base",
            "_model_module_version": "1.5.0",
            "_view_count": null,
            "_view_module_version": "1.2.0",
            "_model_module": "@jupyter-widgets/controls"
          }
        },
        "6839afb1be4d4455a198c2bdeb270e74": {
          "model_module": "@jupyter-widgets/base",
          "model_name": "LayoutModel",
          "state": {
            "_view_name": "LayoutView",
            "grid_template_rows": null,
            "right": null,
            "justify_content": null,
            "_view_module": "@jupyter-widgets/base",
            "overflow": null,
            "_model_module_version": "1.2.0",
            "_view_count": null,
            "flex_flow": null,
            "width": null,
            "min_width": null,
            "border": null,
            "align_items": null,
            "bottom": null,
            "_model_module": "@jupyter-widgets/base",
            "top": null,
            "grid_column": null,
            "overflow_y": null,
            "overflow_x": null,
            "grid_auto_flow": null,
            "grid_area": null,
            "grid_template_columns": null,
            "flex": null,
            "_model_name": "LayoutModel",
            "justify_items": null,
            "grid_row": null,
            "max_height": null,
            "align_content": null,
            "visibility": null,
            "align_self": null,
            "height": null,
            "min_height": null,
            "padding": null,
            "grid_auto_rows": null,
            "grid_gap": null,
            "max_width": null,
            "order": null,
            "_view_module_version": "1.2.0",
            "grid_template_areas": null,
            "object_position": null,
            "object_fit": null,
            "grid_auto_columns": null,
            "margin": null,
            "display": null,
            "left": null
          }
        }
      }
    }
  },
  "cells": [
    {
      "cell_type": "code",
      "metadata": {
        "colab_type": "code",
        "id": "gbA2cui9NHbU",
        "colab": {}
      },
      "source": [
        "import time\n",
        "\n",
        "import platform\n",
        "import io\n",
        "\n",
        "import matplotlib.pyplot as plt\n",
        "from matplotlib.pyplot import cm \n",
        "\n",
        "import torch\n",
        "import torch.nn as nn\n",
        "import torch.optim as optim\n",
        "\n",
        "import torch.nn as nn\n",
        "import torch.nn.functional as F"
      ],
      "execution_count": 1,
      "outputs": []
    },
    {
      "cell_type": "code",
      "metadata": {
        "colab_type": "code",
        "id": "NKuUlSt9PND8",
        "colab": {
          "base_uri": "https://localhost:8080/",
          "height": 373,
          "referenced_widgets": [
            "5578a1026e8c4b3e8737873618cf156d",
            "5256225b915943cd8ed498367ce0752a",
            "862731abb8c644baa3176f41c4cdbdc4",
            "6359d3e2a2cf4209ab97985a254395fe",
            "0fb101bb02eb4aae8341ab77acb88250",
            "f56fb8a0bc1e4680a3e654802e550b64",
            "556b257493bb46f8b946ec9c28031b9e",
            "45e49f547cb3471e8f2f55f540e57c95",
            "db32c1f464f14be59e9e4f91243787d1",
            "e920e080e13f4087b6770d8007178c21",
            "2c4e1bb9cb9b4f308cf2e740a976f982",
            "eb967dbbf0aa4d43b989abd7c189e650",
            "6f49fe0e994b4b0a81d9e36e07444519",
            "453d991848514c0ba3e53a68a32b607a",
            "001444f6a6e94477b9cb4457a00c1cef",
            "1ea3d1f0b17144b497894f7d7ae9b0d5",
            "1d6d5c67e64c4092a754330f330d58a6",
            "bddddd143c6044d19b33fa3b78869483",
            "9cfb1dedd6c545e89ae3e68fbc93bf1a",
            "d94c1568d0314f64a557e61c2453a13f",
            "6c264e2806404f8f9320342a360fbd19",
            "3fc0620ca53d43aabb2823b221f9cfd1",
            "65a03ae2b21c4f08bca04a7962ebc086",
            "616d1c807f6d48238045f0c2b1504030",
            "1170c727d9e641a781db20df03968770",
            "daf7022dc4964059b076e2d49a206b24",
            "e4c2810b5308400a8d2e7a6327ce08ef",
            "61e497d11147465fbba12f024ff59c21",
            "21e6e02b7ff7425ea55605369b27865d",
            "ee0f28f78d484b239c4f0d96173408ce",
            "174ac66aef0449fcb04dca8fd6b817fa",
            "6839afb1be4d4455a198c2bdeb270e74"
          ]
        },
        "outputId": "31638058-2a76-4ef0-af60-235e0c2be4e9"
      },
      "source": [
        "import torch\n",
        "from torchvision.datasets import MNIST\n",
        "import torchvision.transforms as transforms\n",
        "\n",
        "train_dataset = MNIST(root='../data', \n",
        "                      train=True, \n",
        "                      transform=transforms.ToTensor(),  \n",
        "                      download=True)\n",
        "\n",
        "test_dataset = MNIST(root='../data', \n",
        "                     train=False, \n",
        "                     transform=transforms.ToTensor())\n",
        "\n",
        "use_gpu = torch.cuda.is_available()\n",
        "\n",
        "print(\"GPU Available: {}\".format(use_gpu))\n"
      ],
      "execution_count": 2,
      "outputs": [
        {
          "output_type": "stream",
          "text": [
            "Downloading http://yann.lecun.com/exdb/mnist/train-images-idx3-ubyte.gz to ../data/MNIST/raw/train-images-idx3-ubyte.gz\n"
          ],
          "name": "stdout"
        },
        {
          "output_type": "display_data",
          "data": {
            "application/vnd.jupyter.widget-view+json": {
              "model_id": "5578a1026e8c4b3e8737873618cf156d",
              "version_minor": 0,
              "version_major": 2
            },
            "text/plain": [
              "HBox(children=(FloatProgress(value=1.0, bar_style='info', max=1.0), HTML(value='')))"
            ]
          },
          "metadata": {
            "tags": []
          }
        },
        {
          "output_type": "stream",
          "text": [
            "Extracting ../data/MNIST/raw/train-images-idx3-ubyte.gz to ../data/MNIST/raw\n",
            "Downloading http://yann.lecun.com/exdb/mnist/train-labels-idx1-ubyte.gz to ../data/MNIST/raw/train-labels-idx1-ubyte.gz\n"
          ],
          "name": "stdout"
        },
        {
          "output_type": "display_data",
          "data": {
            "application/vnd.jupyter.widget-view+json": {
              "model_id": "db32c1f464f14be59e9e4f91243787d1",
              "version_minor": 0,
              "version_major": 2
            },
            "text/plain": [
              "HBox(children=(FloatProgress(value=1.0, bar_style='info', max=1.0), HTML(value='')))"
            ]
          },
          "metadata": {
            "tags": []
          }
        },
        {
          "output_type": "stream",
          "text": [
            "Extracting ../data/MNIST/raw/train-labels-idx1-ubyte.gz to ../data/MNIST/raw\n",
            "Downloading http://yann.lecun.com/exdb/mnist/t10k-images-idx3-ubyte.gz to ../data/MNIST/raw/t10k-images-idx3-ubyte.gz\n"
          ],
          "name": "stdout"
        },
        {
          "output_type": "display_data",
          "data": {
            "application/vnd.jupyter.widget-view+json": {
              "model_id": "1d6d5c67e64c4092a754330f330d58a6",
              "version_minor": 0,
              "version_major": 2
            },
            "text/plain": [
              "HBox(children=(FloatProgress(value=1.0, bar_style='info', max=1.0), HTML(value='')))"
            ]
          },
          "metadata": {
            "tags": []
          }
        },
        {
          "output_type": "stream",
          "text": [
            "Extracting ../data/MNIST/raw/t10k-images-idx3-ubyte.gz to ../data/MNIST/raw\n",
            "Downloading http://yann.lecun.com/exdb/mnist/t10k-labels-idx1-ubyte.gz to ../data/MNIST/raw/t10k-labels-idx1-ubyte.gz\n"
          ],
          "name": "stdout"
        },
        {
          "output_type": "display_data",
          "data": {
            "application/vnd.jupyter.widget-view+json": {
              "model_id": "1170c727d9e641a781db20df03968770",
              "version_minor": 0,
              "version_major": 2
            },
            "text/plain": [
              "HBox(children=(FloatProgress(value=1.0, bar_style='info', max=1.0), HTML(value='')))"
            ]
          },
          "metadata": {
            "tags": []
          }
        },
        {
          "output_type": "stream",
          "text": [
            "Extracting ../data/MNIST/raw/t10k-labels-idx1-ubyte.gz to ../data/MNIST/raw\n",
            "Processing...\n",
            "Done!\n",
            "GPU Available: True\n"
          ],
          "name": "stdout"
        },
        {
          "output_type": "stream",
          "text": [
            "/pytorch/torch/csrc/utils/tensor_numpy.cpp:141: UserWarning: The given NumPy array is not writeable, and PyTorch does not support non-writeable tensors. This means you can write to the underlying (supposedly non-writeable) NumPy array using the tensor. You may want to copy the array to protect its data or make it writeable before converting it to a tensor. This type of warning will be suppressed for the rest of this program.\n"
          ],
          "name": "stderr"
        }
      ]
    },
    {
      "cell_type": "code",
      "metadata": {
        "colab_type": "code",
        "id": "W0KxFtoZnNzI",
        "colab": {
          "base_uri": "https://localhost:8080/",
          "height": 34
        },
        "outputId": "c6ed6297-b0d7-4d92-cefa-a55f0b3b6cab"
      },
      "source": [
        "use_gpu #this will be true if runtime type is set to gpu"
      ],
      "execution_count": 3,
      "outputs": [
        {
          "output_type": "execute_result",
          "data": {
            "text/plain": [
              "True"
            ]
          },
          "metadata": {
            "tags": []
          },
          "execution_count": 3
        }
      ]
    },
    {
      "cell_type": "code",
      "metadata": {
        "id": "1PDOVkcwneY5",
        "colab_type": "code",
        "colab": {
          "base_uri": "https://localhost:8080/",
          "height": 121
        },
        "outputId": "40e967f3-95fd-4afa-c0bc-6f9dba3bdb4e"
      },
      "source": [
        "train_dataset"
      ],
      "execution_count": 4,
      "outputs": [
        {
          "output_type": "execute_result",
          "data": {
            "text/plain": [
              "Dataset MNIST\n",
              "    Number of datapoints: 60000\n",
              "    Root location: ../data\n",
              "    Split: Train\n",
              "    StandardTransform\n",
              "Transform: ToTensor()"
            ]
          },
          "metadata": {
            "tags": []
          },
          "execution_count": 4
        }
      ]
    },
    {
      "cell_type": "code",
      "metadata": {
        "id": "K9LVwhbMn0dL",
        "colab_type": "code",
        "colab": {
          "base_uri": "https://localhost:8080/",
          "height": 34
        },
        "outputId": "50abe564-ab26-4f93-8e41-addfd8895955"
      },
      "source": [
        "train_dataset[0][0].shape"
      ],
      "execution_count": 7,
      "outputs": [
        {
          "output_type": "execute_result",
          "data": {
            "text/plain": [
              "torch.Size([1, 28, 28])"
            ]
          },
          "metadata": {
            "tags": []
          },
          "execution_count": 7
        }
      ]
    },
    {
      "cell_type": "code",
      "metadata": {
        "id": "o-qLyXxxpXdG",
        "colab_type": "code",
        "colab": {}
      },
      "source": [
        "image, label = train_dataset[0]"
      ],
      "execution_count": 8,
      "outputs": []
    },
    {
      "cell_type": "code",
      "metadata": {
        "id": "CyqEx6ZdpqoC",
        "colab_type": "code",
        "colab": {
          "base_uri": "https://localhost:8080/",
          "height": 34
        },
        "outputId": "0ed23d71-54cc-4526-f6d9-5606e615aa14"
      },
      "source": [
        "label"
      ],
      "execution_count": 9,
      "outputs": [
        {
          "output_type": "execute_result",
          "data": {
            "text/plain": [
              "5"
            ]
          },
          "metadata": {
            "tags": []
          },
          "execution_count": 9
        }
      ]
    },
    {
      "cell_type": "code",
      "metadata": {
        "id": "7WRuM5rJsXa6",
        "colab_type": "code",
        "colab": {
          "base_uri": "https://localhost:8080/",
          "height": 282
        },
        "outputId": "2f43740a-cc86-4e9b-a821-33ae4cf06df2"
      },
      "source": [
        "_ = plt.imshow(image.squeeze()) # or reshape\n",
        "print(\"Label: \", label)"
      ],
      "execution_count": 13,
      "outputs": [
        {
          "output_type": "stream",
          "text": [
            "Label:  5\n"
          ],
          "name": "stdout"
        },
        {
          "output_type": "display_data",
          "data": {
            "image/png": "[encoded data removed]",
            "text/plain": [
              "<Figure size 432x288 with 1 Axes>"
            ]
          },
          "metadata": {
            "tags": [],
            "needs_background": "light"
          }
        }
      ]
    },
    {
      "cell_type": "code",
      "metadata": {
        "colab_type": "code",
        "id": "BD0sfT7RtAkM",
        "colab": {}
      },
      "source": [
        "def prediction(loader, model):\n",
        "  '''\n",
        "  inputs: \n",
        "  outputs: \n",
        "  '''\n",
        "  correct = 0\n",
        "  total = 0\n",
        "  losses = 0\n",
        "\n",
        "  for i, (images, labels) in enumerate(loader):\n",
        "    if use_gpu:\n",
        "      # switch tensor type to GPU\n",
        "      images = images.cuda()\n",
        "      labels = labels.cuda()\n",
        "    \n",
        "      # Flatten the images\n",
        "    \n",
        "    images = images.view(-1, 28*28)\n",
        "    \n",
        "    outputs = model(images)\n",
        "    \n",
        "    loss = criterion(outputs, labels)\n",
        "  \n",
        "    _, predictions = torch.max(outputs, 1)\n",
        "  \n",
        "    correct += torch.sum(labels == predictions).item()\n",
        "    total += labels.shape[0]\n",
        "    \n",
        "    losses += loss.data.item()\n",
        "    \n",
        "  return losses/len(list(loader)), 1 - correct/total # we need to normalize loss with respect to the number of batches \n",
        "\n",
        "\n",
        "def L2_weights_norm(model):\n",
        "    weights = []\n",
        "    L2_norm = 0\n",
        "    for name, parameter in model.named_parameters():\n",
        "        if 'weight' in name: \n",
        "            weights.append(parameter)\n",
        "            \n",
        "    for w in weights:\n",
        "      L2_norm += torch.norm(w)**2\n",
        "\n",
        "    return L2_norm.item()\n",
        "  \n"
      ],
      "execution_count": 19,
      "outputs": []
    },
    {
      "cell_type": "code",
      "metadata": {
        "colab_type": "code",
        "id": "GwDalpL3PRnX",
        "colab": {}
      },
      "source": [
        "batch_size = 100 # hyper parameter\n",
        "\n",
        "train_loader = torch.utils.data.DataLoader(dataset=train_dataset, \n",
        "                                           batch_size=batch_size, \n",
        "                                           shuffle=True)\n",
        "\n",
        "\n",
        "test_loader = torch.utils.data.DataLoader(dataset=test_dataset, \n",
        "                                          batch_size=batch_size, \n",
        "                                          shuffle=False)"
      ],
      "execution_count": 14,
      "outputs": []
    },
    {
      "cell_type": "code",
      "metadata": {
        "id": "iWNkk2rtwPEA",
        "colab_type": "code",
        "colab": {
          "base_uri": "https://localhost:8080/",
          "height": 34
        },
        "outputId": "e0bf5a69-12a7-4dcc-cf9c-9559bd1a074e"
      },
      "source": [
        "len(train_loader)"
      ],
      "execution_count": 15,
      "outputs": [
        {
          "output_type": "execute_result",
          "data": {
            "text/plain": [
              "600"
            ]
          },
          "metadata": {
            "tags": []
          },
          "execution_count": 15
        }
      ]
    },
    {
      "cell_type": "code",
      "metadata": {
        "colab_type": "code",
        "id": "vE2hpWEKPUOS",
        "colab": {}
      },
      "source": [
        "# # It's important to appreciate the data format, e.g. dimensions, type, etc. \n",
        "\n",
        "dd = list(train_loader)"
      ],
      "execution_count": 16,
      "outputs": []
    },
    {
      "cell_type": "code",
      "metadata": {
        "id": "_ZOIHgxUwef7",
        "colab_type": "code",
        "colab": {}
      },
      "source": [
        "images, labels = dd[0] # the first batch"
      ],
      "execution_count": 17,
      "outputs": []
    },
    {
      "cell_type": "code",
      "metadata": {
        "id": "beTj8l0ewj2c",
        "colab_type": "code",
        "colab": {
          "base_uri": "https://localhost:8080/",
          "height": 34
        },
        "outputId": "13343f67-81b0-431b-df53-b920a6cb6411"
      },
      "source": [
        "images.shape"
      ],
      "execution_count": 18,
      "outputs": [
        {
          "output_type": "execute_result",
          "data": {
            "text/plain": [
              "torch.Size([100, 1, 28, 28])"
            ]
          },
          "metadata": {
            "tags": []
          },
          "execution_count": 18
        }
      ]
    },
    {
      "cell_type": "code",
      "metadata": {
        "colab_type": "code",
        "id": "osyfSJyMPaKl",
        "colab": {
          "base_uri": "https://localhost:8080/",
          "height": 300
        },
        "outputId": "e7a2fff1-40a7-4404-9c98-597152a96a02"
      },
      "source": [
        "images = dd[0][0]\n",
        "labels = dd[0][1]\n",
        "\n",
        "\n",
        "image = images[0]\n",
        "label = labels[0]\n",
        "\n",
        "print(image.squeeze().shape) # this makes the shape of image [28, 28] instead of [1, 28, 28]\n",
        "\n",
        "\n",
        "print('Target: {}'.format(label))\n",
        "plt.imshow(image.squeeze())\n",
        "plt.show()\n",
        "\n",
        "# see import matplotlib.pyplot as plt\n",
        "\n",
        "\n",
        "# Extract from dd an image and its label\n",
        "#..."
      ],
      "execution_count": 20,
      "outputs": [
        {
          "output_type": "stream",
          "text": [
            "torch.Size([28, 28])\n",
            "Target: 0\n"
          ],
          "name": "stdout"
        },
        {
          "output_type": "display_data",
          "data": {
            "image/png": "[encoded data removed]",
            "text/plain": [
              "<Figure size 432x288 with 1 Axes>"
            ]
          },
          "metadata": {
            "tags": [],
            "needs_background": "light"
          }
        }
      ]
    },
    {
      "cell_type": "code",
      "metadata": {
        "colab_type": "code",
        "id": "YBNFI-1VPfvH",
        "colab": {}
      },
      "source": [
        "# output = L3(L2(L1(input)))\n",
        "class MLP(nn.Module):\n",
        "    def __init__(self, input_size, hidden_sizes, num_classes):\n",
        "      super(MLP, self).__init__()\n",
        "\n",
        "      h1, h2 = hidden_sizes\n",
        "\n",
        "      self.block1 = nn.Sequential(\n",
        "            nn.Linear(input_size, h1),\n",
        "            nn.Linear(h1, h2),\n",
        "            nn.Linear(h2, num_classes)\n",
        "      )\n",
        "    \n",
        "    def forward(self, x):\n",
        "      out = self.block1(x)\n",
        "\n",
        "      return out"
      ],
      "execution_count": 21,
      "outputs": []
    },
    {
      "cell_type": "code",
      "metadata": {
        "colab_type": "code",
        "id": "17Iy50KUW3YT",
        "colab": {}
      },
      "source": [
        "input_size = 784\n",
        "hidden_size = [1000, 1000]\n",
        "num_classes = 10\n",
        "\n",
        "MLP_model = MLP(input_size, hidden_size, num_classes)\n",
        "MLP_model_r = MLP(input_size, hidden_size, num_classes)\n",
        "\n",
        "if use_gpu:\n",
        "  # switch model to GPU\n",
        "  MLP_model.cuda()\n",
        "  MLP_model_r.cuda()"
      ],
      "execution_count": null,
      "outputs": []
    },
    {
      "cell_type": "code",
      "metadata": {
        "colab_type": "code",
        "id": "HOCGCGWDYZ1x",
        "colab": {}
      },
      "source": [
        "learning_rate = 1e-3\n",
        "\n",
        "criterion = nn.CrossEntropyLoss()  \n",
        "\n",
        "optimizer = torch.optim.SGD(MLP_model.parameters(), lr=learning_rate)\n",
        "optimizer_r = torch.optim.SGD(MLP_model_r.parameters(), lr=learning_rate, weight_decay=0.01)"
      ],
      "execution_count": null,
      "outputs": []
    },
    {
      "cell_type": "code",
      "metadata": {
        "colab_type": "code",
        "id": "GarpB99dYoJR",
        "colab": {
          "base_uri": "https://localhost:8080/",
          "height": 225
        },
        "outputId": "406cfca3-4b9f-4166-8bba-fc58b582bec8"
      },
      "source": [
        "# lists to plot: \n",
        "\n",
        "train_losses = []\n",
        "train_losses_r = []\n",
        "    \n",
        "test_losses = []\n",
        "test_losses_r = []\n",
        "\n",
        "train_error_rates = []\n",
        "train_error_rates_r = []\n",
        "    \n",
        "test_error_rates = []\n",
        "test_error_rates_r = []\n",
        "\n",
        "L2_Norms = []\n",
        "L2_Norms_r = []\n",
        "\n",
        "t0 = time.time()\n",
        "\n",
        "num_epochs = 10\n",
        "for epoch in range(num_epochs):\n",
        "    \n",
        "    loss = 0\n",
        "    loss_r = 0\n",
        "    n_iter = 0\n",
        "    \n",
        "    # Iterate over data.\n",
        "    for i, (images, labels) in enumerate(train_loader):  \n",
        "        # Zero the gradient buffer\n",
        "        optimizer.zero_grad()  \n",
        "\n",
        "        optimizer_r.zero_grad()          \n",
        "        \n",
        "        if use_gpu:\n",
        "          # switch tensor type to GPU\n",
        "          images = images.cuda()\n",
        "          labels = labels.cuda()\n",
        "        \n",
        "        # Flatten the images\n",
        "        images = images.view(-1, 28*28)\n",
        "        \n",
        "        # Forward\n",
        "        outputs = MLP_model(images)\n",
        "        outputs_r = MLP_model_r(images)        \n",
        "        \n",
        "        loss_bs = criterion(outputs, labels)\n",
        "        loss_bs_r = criterion(outputs_r, labels)        \n",
        "        \n",
        "        # Backward\n",
        "        loss_bs.backward()\n",
        "        loss_bs_r.backward()        \n",
        "        \n",
        "        # Optimize\n",
        "        optimizer.step()\n",
        "        optimizer_r.step()        \n",
        "        \n",
        "        # Statistics\n",
        "        loss += loss_bs.data.item()\n",
        "        loss_r += loss_bs_r.data.item()        \n",
        "        \n",
        "        n_iter += 1\n",
        "        \n",
        "    if epoch%1 == 0:\n",
        "      print('Epoch: {}/{}, Loss: {:.4f}, Loss_r: {:.4f}'.format(\n",
        "          epoch+1, num_epochs, loss/n_iter, loss_r/n_iter))\n",
        "    \n",
        "    ## compute stuff we need to plot \n",
        "\n",
        "    train_loss, train_error_rate = prediction(train_loader, MLP_model) \n",
        "    train_loss_r, train_error_rate_r = prediction(train_loader, MLP_model_r) \n",
        "\n",
        "    test_loss, test_error_rate = prediction(test_loader, MLP_model) \n",
        "    test_loss_r, test_error_rate_r = prediction(test_loader, MLP_model_r) \n",
        "    \n",
        "    ## store the 'stuff' we need to plot in lists. Those are defined above. \n",
        "    \n",
        "    L2_Norms.append(L2_weights_norm(MLP_model))\n",
        "    L2_Norms_r.append(L2_weights_norm(MLP_model_r))\n",
        "    \n",
        "    train_losses.append(train_loss)\n",
        "    train_losses_r.append(train_loss_r)        \n",
        "    \n",
        "    test_losses.append(test_loss)\n",
        "    test_losses_r.append(test_loss_r)    \n",
        "\n",
        "    train_error_rates.append(train_error_rate)\n",
        "    train_error_rates_r.append(train_error_rate_r)\n",
        "    \n",
        "    test_error_rates.append(test_error_rate)\n",
        "    test_error_rates_r.append(test_error_rate_r)\n",
        "\n",
        "tf = time.time()    \n",
        "print()\n",
        "print('Time : {} s'.format(tf-t0))"
      ],
      "execution_count": null,
      "outputs": [
        {
          "output_type": "stream",
          "text": [
            "Epoch: 1/10, Loss: 0.7439, Loss_r: 0.7872\n",
            "Epoch: 2/10, Loss: 0.6772, Loss_r: 0.7190\n",
            "Epoch: 3/10, Loss: 0.6266, Loss_r: 0.6672\n",
            "Epoch: 4/10, Loss: 0.5870, Loss_r: 0.6267\n",
            "Epoch: 5/10, Loss: 0.5552, Loss_r: 0.5942\n",
            "Epoch: 6/10, Loss: 0.5291, Loss_r: 0.5676\n",
            "Epoch: 7/10, Loss: 0.5074, Loss_r: 0.5455\n",
            "Epoch: 8/10, Loss: 0.4890, Loss_r: 0.5268\n",
            "Epoch: 9/10, Loss: 0.4733, Loss_r: 0.5108\n",
            "Epoch: 10/10, Loss: 0.4597, Loss_r: 0.4970\n",
            "\n",
            "Time : 202.83661651611328 s\n"
          ],
          "name": "stdout"
        }
      ]
    },
    {
      "cell_type": "code",
      "metadata": {
        "colab_type": "code",
        "id": "hy9qTqGcXIpa",
        "colab": {}
      },
      "source": [
        "100*test_error_rates[-1]"
      ],
      "execution_count": null,
      "outputs": []
    },
    {
      "cell_type": "code",
      "metadata": {
        "colab_type": "code",
        "id": "FQyKSWhRP8jB",
        "colab": {}
      },
      "source": [
        "fig, (ax1) = plt.subplots(1,figsize=(7,6))\n",
        "\n",
        "ax1.plot([60],[-1],'o',markersize=8,color=[0.8,0.8,0.8])\n",
        "ax1.plot([60],[-1],'o',markersize=8,color=[0.8,0.8,0.8],markerfacecolor = 'w')\n",
        "\n",
        "ax1.plot(train_error_rates,'-ko',markersize=6)\n",
        "ax1.plot(test_error_rates,'-ro',markersize=6)\n",
        "\n",
        "ax1.plot(train_error_rates_r,'-ko',markersize=6, markerfacecolor = 'w')\n",
        "ax1.plot(test_error_rates_r,'-ro',markersize=6, markerfacecolor = 'w')\n",
        "\n",
        "ax1.set_ylabel('Error rate (%)',fontsize=14)\n",
        "ax1.set_xlabel('Epoch',fontsize=14)\n",
        "\n",
        "ax1.set_ylim([0,0.4])\n",
        "for i, ax in enumerate([ax1]):\n",
        "    for item in ([ax.title, ax.xaxis.label, ax.yaxis.label] + ax.get_xticklabels() + ax.get_yticklabels()):\n",
        "        item.set_fontsize(14)        \n",
        "\n",
        "xmin, xmax = ax1.get_xlim()\n",
        "ymin, ymax = ax1.get_ylim()\n",
        "ax1.text(0.8*(xmax - xmin) + xmin, 0.75*(ymax-ymin) + ymin,'Train', fontsize=16,color='k')        \n",
        "ax1.text(0.8*(xmax - xmin) + xmin, 0.68*(ymax-ymin) + ymin,'Valid', fontsize=16,color='r')        \n",
        "\n",
        "legend = ax1.legend(['No regularization','Regularization'],loc='upper right',fontsize=14,frameon=False)\n",
        "plt.suptitle('Effect of the weight decay', fontsize=20, y=1.05)\n",
        "plt.tight_layout()\n",
        "\n",
        "plt.show()        \n",
        "\n",
        "# fig.savefig('Figures/Q1/Q1_weight_decay_no_regularization.pdf') #, bbox_inches='tight'\n"
      ],
      "execution_count": null,
      "outputs": []
    },
    {
      "cell_type": "code",
      "metadata": {
        "colab_type": "code",
        "id": "itICLA0meaUD",
        "colab": {}
      },
      "source": [
        "fig, (ax) = plt.subplots(1,figsize=(7,6))\n",
        "\n",
        "ax.plot(L2_Norms,'-ob',markersize=8)\n",
        "ax.plot(L2_Norms_r,'-ob',markersize=8, markerfacecolor='w')\n",
        "\n",
        "####################################################################################\n",
        "####################################################################################\n",
        "\n",
        "ax.set_ylabel('L2 norm',fontsize=14)\n",
        "ax.set_xlabel('Epoch',fontsize=14)\n",
        "\n",
        "xmin, xmax = ax.get_xlim()\n",
        "ymin, ymax = ax.get_ylim()\n",
        "# ax.text(0.7*(xmax - xmin) + xmin, 0.8*(ymax-ymin) + ymin,'$\\lambda = 2.5$', fontsize=16 ,color='k')        \n",
        "\n",
        "for item in ([ax.title, ax.xaxis.label, ax.yaxis.label] + ax.get_xticklabels() + ax.get_yticklabels()):\n",
        "            item.set_fontsize(14)        \n",
        "\n",
        "legend = ax.legend(['No regularization','Regularization'],loc='center right',fontsize=14,frameon=False)\n",
        "\n",
        "plt.show()        \n",
        "    \n",
        "# fig.savefig('Figures/Q1/Q1_L2Norm.pdf')\n"
      ],
      "execution_count": null,
      "outputs": []
    }
  ]
}